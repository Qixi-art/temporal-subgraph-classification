{
 "cells": [
  {
   "cell_type": "code",
   "execution_count": 53,
   "metadata": {},
   "outputs": [],
   "source": [
    "import pandas as pd\n",
    "import numpy as np\n",
    "from sklearn.preprocessing import StandardScaler  \n",
    "from sklearn import svm\n",
    "from sklearn.model_selection import GridSearchCV\n",
    "from sklearn.metrics import accuracy_score, confusion_matrix\n",
    "from sklearn.ensemble import RandomForestClassifier\n",
    "import xgboost as xgb\n",
    "from datetime import datetime\n",
    "import matplotlib.pyplot as plt\n",
    "from jupyterthemes import jtplot"
   ]
  },
  {
   "cell_type": "markdown",
   "metadata": {},
   "source": [
    "## data preparation"
   ]
  },
  {
   "cell_type": "code",
   "execution_count": 25,
   "metadata": {},
   "outputs": [],
   "source": [
    "input_dir = 'data/datasets'\n",
    "types = ['static', 'temporal', 'merged']\n",
    "datasets = ['email', 'sx']\n",
    "look_around_values = ['la_0', 'la_1']\n",
    "dataset_train_test = dict() # dataset -> (X_train, y_train, X_test, y_test)"
   ]
  },
  {
   "cell_type": "code",
   "execution_count": 36,
   "metadata": {},
   "outputs": [],
   "source": [
    "for t in types:\n",
    "    for dataset in datasets:\n",
    "        for la in look_around_values:\n",
    "            read_from_dir = '{0}/{1}/{2}/{3}'.format(input_dir, t, dataset, la)\n",
    "            \n",
    "            df_train = pd.read_csv('{0}/train.csv'.format(read_from_dir), header=None)\n",
    "            df_test = pd.read_csv('{0}/test.csv'.format(read_from_dir), header=None)\n",
    "            \n",
    "            X_train = df_train.drop(columns=[df_train.columns[-1]])\n",
    "            y_train = df_train[df_train.columns[-1]]\n",
    "            X_test = df_test.drop(columns=[df_test.columns[-1]])\n",
    "            y_test = df_test[df_test.columns[-1]]\n",
    "            \n",
    "            scaler = StandardScaler() \n",
    "            scaler.fit(X_train)  \n",
    "            X_train = scaler.transform(X_train)  \n",
    "            X_test = scaler.transform(X_test)  \n",
    "\n",
    "            dataset_train_test[read_from_dir] = (X_train, y_train, X_test, y_test)"
   ]
  },
  {
   "cell_type": "markdown",
   "metadata": {},
   "source": [
    "## support vector machine"
   ]
  },
  {
   "cell_type": "code",
   "execution_count": 37,
   "metadata": {},
   "outputs": [],
   "source": [
    "svm_params = {'C': [2**i for i in range(-4, 6, 2)], 'gamma': [2**i for i in range(-3, -11, -2)]}\n",
    "svm_accuracy = dict()"
   ]
  },
  {
   "cell_type": "code",
   "execution_count": 40,
   "metadata": {
    "scrolled": true
   },
   "outputs": [
    {
     "name": "stdout",
     "output_type": "stream",
     "text": [
      "Processing: data/datasets/static/email/la_0\t[2019-02-18 11:47:53.367075]\n",
      "0.57431\n",
      "[[51 11 38  4]\n",
      " [ 3 70 19 12]\n",
      " [ 7  8 69  3]\n",
      " [10 18 36 38]]\n",
      "\n",
      "Processing: data/datasets/static/email/la_1\t[2019-02-18 11:48:19.957496]\n",
      "0.7783\n",
      "[[90  3 14  0]\n",
      " [ 0 88 13  6]\n",
      " [13  5 86  0]\n",
      " [12 14 14 66]]\n",
      "\n",
      "Processing: data/datasets/static/sx/la_0\t[2019-02-18 11:48:41.999733]\n",
      "0.78171\n",
      "[[178   1   0 231]\n",
      " [  0 410   0   0]\n",
      " [  0   0 410   0]\n",
      " [115  11   0 284]]\n",
      "\n",
      "Processing: data/datasets/static/sx/la_1\t[2019-02-18 11:52:52.405764]\n",
      "0.78545\n",
      "[[146   0   0 263]\n",
      " [  0 409   0   0]\n",
      " [  0   0 409   0]\n",
      " [ 85   3   0 321]]\n",
      "\n",
      "Processing: data/datasets/temporal/email/la_0\t[2019-02-18 11:55:17.846804]\n",
      "0.42821\n",
      "[[21 15 40 28]\n",
      " [11 32 22 39]\n",
      " [ 8  6 71  2]\n",
      " [10  8 38 46]]\n",
      "\n",
      "Processing: data/datasets/temporal/email/la_1\t[2019-02-18 11:55:43.894140]\n",
      "0.55896\n",
      "[[32 22 18 35]\n",
      " [17 68 10 12]\n",
      " [ 7  5 92  0]\n",
      " [28 13 20 45]]\n",
      "\n",
      "Processing: data/datasets/temporal/sx/la_0\t[2019-02-18 11:56:08.923362]\n",
      "0.73537\n",
      "[[141  11   1 257]\n",
      " [  1 409   0   0]\n",
      " [  0   0 410   0]\n",
      " [122  42   0 246]]\n",
      "\n",
      "Processing: data/datasets/temporal/sx/la_1\t[2019-02-18 12:00:37.436288]\n",
      "0.76222\n",
      "[[138   3   0 268]\n",
      " [  0 409   0   0]\n",
      " [  0   0 409   0]\n",
      " [105  13   0 291]]\n",
      "\n",
      "Processing: data/datasets/merged/email/la_0\t[2019-02-18 12:05:03.444228]\n",
      "0.60202\n",
      "[[52 12 38  2]\n",
      " [ 0 72 21 11]\n",
      " [ 5  9 72  1]\n",
      " [ 7 16 36 43]]\n",
      "\n",
      "Processing: data/datasets/merged/email/la_1\t[2019-02-18 12:05:32.628211]\n",
      "0.8066\n",
      "[[87  5 14  1]\n",
      " [ 0 89 15  3]\n",
      " [11  7 86  0]\n",
      " [ 4  8 14 80]]\n",
      "\n",
      "Processing: data/datasets/merged/sx/la_0\t[2019-02-18 12:05:59.703770]\n",
      "0.79451\n",
      "[[185   2   1 222]\n",
      " [  0 410   0   0]\n",
      " [  0   0 410   0]\n",
      " [101  11   0 298]]\n",
      "\n",
      "Processing: data/datasets/merged/sx/la_1\t[2019-02-18 12:11:44.047868]\n",
      "0.83313\n",
      "[[221   0   0 188]\n",
      " [  0 409   0   0]\n",
      " [  0   0 409   0]\n",
      " [ 83   2   0 324]]\n",
      "\n"
     ]
    }
   ],
   "source": [
    "for dataset, (X_train, y_train, X_test, y_test) in dataset_train_test.items():\n",
    "    print('Processing: {0}\\t[{1}]'.format(dataset, datetime.now()))\n",
    "    \n",
    "    clf = GridSearchCV(svm.SVC(), svm_params, cv=10, n_jobs=4)\n",
    "    clf.fit(X = X_train, y = y_train)\n",
    "\n",
    "    clf = clf.best_estimator_\n",
    "    y_pred = clf.predict(X_test)\n",
    "    \n",
    "    accuracy = round(accuracy_score(y_test, y_pred), 5)\n",
    "    \n",
    "    svm_accuracy[dataset] = accuracy\n",
    "    print(accuracy)\n",
    "    print(confusion_matrix(y_test, y_pred))\n",
    "    print()"
   ]
  },
  {
   "cell_type": "markdown",
   "metadata": {},
   "source": [
    "## random forests"
   ]
  },
  {
   "cell_type": "code",
   "execution_count": 46,
   "metadata": {},
   "outputs": [],
   "source": [
    "rf_params = {'n_estimators': [50, 100, 200, 400], 'max_depth': [2, 4, 6]}\n",
    "rf_accuracy = dict()"
   ]
  },
  {
   "cell_type": "code",
   "execution_count": 47,
   "metadata": {
    "scrolled": true
   },
   "outputs": [
    {
     "name": "stdout",
     "output_type": "stream",
     "text": [
      "Processing: data/datasets/static/email/la_0\t[2019-02-18 12:22:33.332232]\n",
      "0.58438\n",
      "[[50 14 15 25]\n",
      " [ 1 87 11  5]\n",
      " [ 4 21 35 27]\n",
      " [15 21  6 60]]\n",
      "\n",
      "Processing: data/datasets/static/email/la_1\t[2019-02-18 12:22:53.050754]\n",
      "0.73113\n",
      "[[85  5 13  4]\n",
      " [ 0 90 11  6]\n",
      " [ 7 18 76  3]\n",
      " [14 19 14 59]]\n",
      "\n",
      "Processing: data/datasets/static/sx/la_0\t[2019-02-18 12:23:13.786299]\n",
      "0.79878\n",
      "[[190   0   0 220]\n",
      " [  0 410   0   0]\n",
      " [  0   0 410   0]\n",
      " [109   1   0 300]]\n",
      "\n",
      "Processing: data/datasets/static/sx/la_1\t[2019-02-18 12:23:50.646273]\n",
      "0.7934\n",
      "[[118   0   0 291]\n",
      " [  0 409   0   0]\n",
      " [  0   0 409   0]\n",
      " [ 47   0   0 362]]\n",
      "\n",
      "Processing: data/datasets/temporal/email/la_0\t[2019-02-18 12:24:29.928510]\n",
      "0.50378\n",
      "[[32 18 34 20]\n",
      " [ 9 62 18 15]\n",
      " [ 7 17 63  0]\n",
      " [ 3 21 35 43]]\n",
      "\n",
      "Processing: data/datasets/temporal/email/la_1\t[2019-02-18 12:24:53.088571]\n",
      "0.61792\n",
      "[[39 20 17 31]\n",
      " [11 76  9 11]\n",
      " [10  6 86  2]\n",
      " [19 13 13 61]]\n",
      "\n",
      "Processing: data/datasets/temporal/sx/la_0\t[2019-02-18 12:25:17.942073]\n",
      "0.76037\n",
      "[[ 96   5   0 309]\n",
      " [ 11 399   0   0]\n",
      " [  0   0 410   0]\n",
      " [ 57  11   0 342]]\n",
      "\n",
      "Processing: data/datasets/temporal/sx/la_1\t[2019-02-18 12:26:09.591944]\n",
      "0.8533\n",
      "[[223   0   0 186]\n",
      " [  1 408   0   0]\n",
      " [  0   0 409   0]\n",
      " [ 51   2   0 356]]\n",
      "\n",
      "Processing: data/datasets/merged/email/la_0\t[2019-02-18 12:27:05.822563]\n",
      "0.5995\n",
      "[[50 14 21 19]\n",
      " [ 1 86 13  4]\n",
      " [ 4 20 40 23]\n",
      " [13 21  6 62]]\n",
      "\n",
      "Processing: data/datasets/merged/email/la_1\t[2019-02-18 12:27:29.348259]\n",
      "0.75236\n",
      "[[82  7 13  5]\n",
      " [ 0 94 10  3]\n",
      " [ 6 19 78  1]\n",
      " [12 14 15 65]]\n",
      "\n",
      "Processing: data/datasets/merged/sx/la_0\t[2019-02-18 12:27:58.852355]\n",
      "0.79634\n",
      "[[175   1   0 234]\n",
      " [  0 410   0   0]\n",
      " [  0   0 410   0]\n",
      " [ 91   8   0 311]]\n",
      "\n",
      "Processing: data/datasets/merged/sx/la_1\t[2019-02-18 12:28:56.650780]\n",
      "0.83252\n",
      "[[192   0   0 217]\n",
      " [  0 409   0   0]\n",
      " [  0   0 409   0]\n",
      " [ 55   2   0 352]]\n",
      "\n"
     ]
    }
   ],
   "source": [
    "for dataset, (X_train, y_train, X_test, y_test) in dataset_train_test.items():\n",
    "    print('Processing: {0}\\t[{1}]'.format(dataset, datetime.now()))\n",
    "    \n",
    "    clf = GridSearchCV(RandomForestClassifier(), rf_params, cv=10, n_jobs=4)\n",
    "    clf.fit(X = X_train, y = y_train)\n",
    "\n",
    "    clf = clf.best_estimator_\n",
    "    y_pred = clf.predict(X_test)\n",
    "    \n",
    "    accuracy = round(accuracy_score(y_test, y_pred), 5)\n",
    "    \n",
    "    rf_accuracy[dataset] = accuracy\n",
    "    print(accuracy)\n",
    "    print(confusion_matrix(y_test, y_pred))\n",
    "    print()"
   ]
  },
  {
   "cell_type": "markdown",
   "metadata": {},
   "source": [
    "## xgboost"
   ]
  },
  {
   "cell_type": "code",
   "execution_count": 48,
   "metadata": {},
   "outputs": [],
   "source": [
    "xgb_params = {'n_estimators': [50, 100, 200, 400], 'max_depth': [2, 4, 6]}\n",
    "xgb_accuracy = dict()"
   ]
  },
  {
   "cell_type": "code",
   "execution_count": 49,
   "metadata": {
    "scrolled": true
   },
   "outputs": [
    {
     "name": "stdout",
     "output_type": "stream",
     "text": [
      "Processing: data/datasets/static/email/la_0\t[2019-02-18 12:30:25.353052]\n"
     ]
    },
    {
     "name": "stderr",
     "output_type": "stream",
     "text": [
      "C:\\Anaconda3\\lib\\site-packages\\sklearn\\preprocessing\\label.py:151: DeprecationWarning: The truth value of an empty array is ambiguous. Returning False, but in future this will result in an error. Use `array.size > 0` to check that an array is not empty.\n",
      "  if diff:\n"
     ]
    },
    {
     "name": "stdout",
     "output_type": "stream",
     "text": [
      "0.56927\n",
      "[[55 12 15 22]\n",
      " [ 7 77  9 11]\n",
      " [ 9 11 54 13]\n",
      " [17 25 20 40]]\n",
      "\n",
      "Processing: data/datasets/static/email/la_1\t[2019-02-18 12:31:34.626789]\n"
     ]
    },
    {
     "name": "stderr",
     "output_type": "stream",
     "text": [
      "C:\\Anaconda3\\lib\\site-packages\\sklearn\\preprocessing\\label.py:151: DeprecationWarning: The truth value of an empty array is ambiguous. Returning False, but in future this will result in an error. Use `array.size > 0` to check that an array is not empty.\n",
      "  if diff:\n"
     ]
    },
    {
     "name": "stdout",
     "output_type": "stream",
     "text": [
      "0.76179\n",
      "[[88  4 14  1]\n",
      " [ 1 92  9  5]\n",
      " [16  7 80  1]\n",
      " [17 13 13 63]]\n",
      "\n",
      "Processing: data/datasets/static/sx/la_0\t[2019-02-18 12:32:49.745892]\n"
     ]
    },
    {
     "name": "stderr",
     "output_type": "stream",
     "text": [
      "C:\\Anaconda3\\lib\\site-packages\\sklearn\\preprocessing\\label.py:151: DeprecationWarning: The truth value of an empty array is ambiguous. Returning False, but in future this will result in an error. Use `array.size > 0` to check that an array is not empty.\n",
      "  if diff:\n"
     ]
    },
    {
     "name": "stdout",
     "output_type": "stream",
     "text": [
      "0.85061\n",
      "[[245   0   0 165]\n",
      " [  6 404   0   0]\n",
      " [  0   0 410   0]\n",
      " [ 74   0   0 336]]\n",
      "\n",
      "Processing: data/datasets/static/sx/la_1\t[2019-02-18 12:37:16.001882]\n"
     ]
    },
    {
     "name": "stderr",
     "output_type": "stream",
     "text": [
      "C:\\Anaconda3\\lib\\site-packages\\sklearn\\preprocessing\\label.py:151: DeprecationWarning: The truth value of an empty array is ambiguous. Returning False, but in future this will result in an error. Use `array.size > 0` to check that an array is not empty.\n",
      "  if diff:\n"
     ]
    },
    {
     "name": "stdout",
     "output_type": "stream",
     "text": [
      "0.89487\n",
      "[[283   0   0 126]\n",
      " [  3 406   0   0]\n",
      " [  0   0 409   0]\n",
      " [ 43   0   0 366]]\n",
      "\n",
      "Processing: data/datasets/temporal/email/la_0\t[2019-02-18 12:42:04.669127]\n"
     ]
    },
    {
     "name": "stderr",
     "output_type": "stream",
     "text": [
      "C:\\Anaconda3\\lib\\site-packages\\sklearn\\preprocessing\\label.py:151: DeprecationWarning: The truth value of an empty array is ambiguous. Returning False, but in future this will result in an error. Use `array.size > 0` to check that an array is not empty.\n",
      "  if diff:\n"
     ]
    },
    {
     "name": "stdout",
     "output_type": "stream",
     "text": [
      "0.48615\n",
      "[[36 17 26 25]\n",
      " [16 57 14 17]\n",
      " [ 8 15 60  4]\n",
      " [12 18 32 40]]\n",
      "\n",
      "Processing: data/datasets/temporal/email/la_1\t[2019-02-18 12:44:46.714269]\n"
     ]
    },
    {
     "name": "stderr",
     "output_type": "stream",
     "text": [
      "C:\\Anaconda3\\lib\\site-packages\\sklearn\\preprocessing\\label.py:151: DeprecationWarning: The truth value of an empty array is ambiguous. Returning False, but in future this will result in an error. Use `array.size > 0` to check that an array is not empty.\n",
      "  if diff:\n"
     ]
    },
    {
     "name": "stdout",
     "output_type": "stream",
     "text": [
      "0.61792\n",
      "[[49 15 15 28]\n",
      " [ 9 80  9  9]\n",
      " [14 16 71  3]\n",
      " [18 13 13 62]]\n",
      "\n",
      "Processing: data/datasets/temporal/sx/la_0\t[2019-02-18 12:47:40.422771]\n"
     ]
    },
    {
     "name": "stderr",
     "output_type": "stream",
     "text": [
      "C:\\Anaconda3\\lib\\site-packages\\sklearn\\preprocessing\\label.py:151: DeprecationWarning: The truth value of an empty array is ambiguous. Returning False, but in future this will result in an error. Use `array.size > 0` to check that an array is not empty.\n",
      "  if diff:\n"
     ]
    },
    {
     "name": "stdout",
     "output_type": "stream",
     "text": [
      "0.81646\n",
      "[[213   3   0 194]\n",
      " [ 16 394   0   0]\n",
      " [  0   0 410   0]\n",
      " [ 83   5   0 322]]\n",
      "\n",
      "Processing: data/datasets/temporal/sx/la_1\t[2019-02-18 12:56:58.464949]\n"
     ]
    },
    {
     "name": "stderr",
     "output_type": "stream",
     "text": [
      "C:\\Anaconda3\\lib\\site-packages\\sklearn\\preprocessing\\label.py:151: DeprecationWarning: The truth value of an empty array is ambiguous. Returning False, but in future this will result in an error. Use `array.size > 0` to check that an array is not empty.\n",
      "  if diff:\n"
     ]
    },
    {
     "name": "stdout",
     "output_type": "stream",
     "text": [
      "0.88081\n",
      "[[287   0   0 122]\n",
      " [  7 402   0   0]\n",
      " [  0   0 409   0]\n",
      " [ 65   1   0 343]]\n",
      "\n",
      "Processing: data/datasets/merged/email/la_0\t[2019-02-18 13:04:45.243653]\n"
     ]
    },
    {
     "name": "stderr",
     "output_type": "stream",
     "text": [
      "C:\\Anaconda3\\lib\\site-packages\\sklearn\\preprocessing\\label.py:151: DeprecationWarning: The truth value of an empty array is ambiguous. Returning False, but in future this will result in an error. Use `array.size > 0` to check that an array is not empty.\n",
      "  if diff:\n"
     ]
    },
    {
     "name": "stdout",
     "output_type": "stream",
     "text": [
      "0.57431\n",
      "[[57 14 14 19]\n",
      " [10 72  9 13]\n",
      " [10 18 50  9]\n",
      " [17 18 18 49]]\n",
      "\n",
      "Processing: data/datasets/merged/email/la_1\t[2019-02-18 13:07:30.487731]\n"
     ]
    },
    {
     "name": "stderr",
     "output_type": "stream",
     "text": [
      "C:\\Anaconda3\\lib\\site-packages\\sklearn\\preprocessing\\label.py:151: DeprecationWarning: The truth value of an empty array is ambiguous. Returning False, but in future this will result in an error. Use `array.size > 0` to check that an array is not empty.\n",
      "  if diff:\n"
     ]
    },
    {
     "name": "stdout",
     "output_type": "stream",
     "text": [
      "0.75236\n",
      "[[85  6  7  9]\n",
      " [ 6 90  4  7]\n",
      " [13 14 77  0]\n",
      " [12 18  9 67]]\n",
      "\n",
      "Processing: data/datasets/merged/sx/la_0\t[2019-02-18 13:10:48.053995]\n"
     ]
    },
    {
     "name": "stderr",
     "output_type": "stream",
     "text": [
      "C:\\Anaconda3\\lib\\site-packages\\sklearn\\preprocessing\\label.py:151: DeprecationWarning: The truth value of an empty array is ambiguous. Returning False, but in future this will result in an error. Use `array.size > 0` to check that an array is not empty.\n",
      "  if diff:\n"
     ]
    },
    {
     "name": "stdout",
     "output_type": "stream",
     "text": [
      "0.86951\n",
      "[[269   0   0 141]\n",
      " [  6 404   0   0]\n",
      " [  0   0 410   0]\n",
      " [ 67   0   0 343]]\n",
      "\n",
      "Processing: data/datasets/merged/sx/la_1\t[2019-02-18 13:21:15.456499]\n",
      "0.9132\n",
      "[[319   0   0  90]\n",
      " [  2 407   0   0]\n",
      " [  0   0 409   0]\n",
      " [ 48   2   0 359]]\n",
      "\n"
     ]
    },
    {
     "name": "stderr",
     "output_type": "stream",
     "text": [
      "C:\\Anaconda3\\lib\\site-packages\\sklearn\\preprocessing\\label.py:151: DeprecationWarning: The truth value of an empty array is ambiguous. Returning False, but in future this will result in an error. Use `array.size > 0` to check that an array is not empty.\n",
      "  if diff:\n"
     ]
    }
   ],
   "source": [
    "for dataset, (X_train, y_train, X_test, y_test) in dataset_train_test.items():\n",
    "    print('Processing: {0}\\t[{1}]'.format(dataset, datetime.now()))\n",
    "    \n",
    "    clf = GridSearchCV(xgb.XGBClassifier(), rf_params, cv=10, n_jobs=4)\n",
    "    clf.fit(X = X_train, y = y_train)\n",
    "\n",
    "    clf = clf.best_estimator_\n",
    "    y_pred = clf.predict(X_test)\n",
    "    \n",
    "    accuracy = round(accuracy_score(y_test, y_pred), 5)\n",
    "    \n",
    "    xgb_accuracy[dataset] = accuracy\n",
    "    print(accuracy)\n",
    "    print(confusion_matrix(y_test, y_pred))\n",
    "    print()"
   ]
  },
  {
   "cell_type": "code",
   "execution_count": 149,
   "metadata": {},
   "outputs": [],
   "source": [
    "plots = {'ds = email, ws = 1': ((svm_accuracy['data/datasets/static/email/la_0'], rf_accuracy['data/datasets/static/email/la_0'], xgb_accuracy['data/datasets/static/email/la_0']),\n",
    "                             (svm_accuracy['data/datasets/temporal/email/la_0'], rf_accuracy['data/datasets/temporal/email/la_0'], xgb_accuracy['data/datasets/temporal/email/la_0']),    \n",
    "                             (svm_accuracy['data/datasets/merged/email/la_0'], rf_accuracy['data/datasets/merged/email/la_0'], xgb_accuracy['data/datasets/merged/email/la_0'])),\n",
    "         \n",
    "          'ds = sx, ws = 1': ((svm_accuracy['data/datasets/static/sx/la_0'], rf_accuracy['data/datasets/static/sx/la_0'], xgb_accuracy['data/datasets/static/sx/la_0']),\n",
    "                             (svm_accuracy['data/datasets/temporal/sx/la_0'], rf_accuracy['data/datasets/temporal/sx/la_0'], xgb_accuracy['data/datasets/temporal/sx/la_0']),\n",
    "                             (svm_accuracy['data/datasets/merged/sx/la_0'], rf_accuracy['data/datasets/merged/sx/la_0'], xgb_accuracy['data/datasets/merged/sx/la_0'])),\n",
    "         \n",
    "          'ds = email, ws = 3': ((svm_accuracy['data/datasets/static/email/la_1'], rf_accuracy['data/datasets/static/email/la_1'], xgb_accuracy['data/datasets/static/email/la_1']),\n",
    "                             (svm_accuracy['data/datasets/temporal/email/la_1'], rf_accuracy['data/datasets/temporal/email/la_1'], xgb_accuracy['data/datasets/temporal/email/la_1']),\n",
    "                             (svm_accuracy['data/datasets/merged/email/la_1'], rf_accuracy['data/datasets/merged/email/la_1'], xgb_accuracy['data/datasets/merged/email/la_1'])),\n",
    "         \n",
    "          'ds = sx, ws = 3': ((svm_accuracy['data/datasets/static/sx/la_1'], rf_accuracy['data/datasets/static/sx/la_1'], xgb_accuracy['data/datasets/static/sx/la_1']),\n",
    "                             (svm_accuracy['data/datasets/temporal/sx/la_1'], rf_accuracy['data/datasets/temporal/sx/la_1'], xgb_accuracy['data/datasets/temporal/sx/la_1']),\n",
    "                             (svm_accuracy['data/datasets/merged/sx/la_1'], rf_accuracy['data/datasets/merged/sx/la_1'], xgb_accuracy['data/datasets/merged/sx/la_1']))\n",
    "        }"
   ]
  },
  {
   "cell_type": "code",
   "execution_count": 191,
   "metadata": {},
   "outputs": [
    {
     "data": {
      "text/plain": [
       "<Figure size 2520x2520 with 0 Axes>"
      ]
     },
     "metadata": {},
     "output_type": "display_data"
    }
   ],
   "source": [
    "jtplot.style(theme='onedork')\n",
    "jtplot.style(context='talk', fscale=1.4, spines=False, gridlines='--')\n",
    "jtplot.style(ticks=True, grid=False, figsize=(20, 13))\n",
    "fig = plt.figure(figsize=(35, 35))"
   ]
  },
  {
   "cell_type": "markdown",
   "metadata": {},
   "source": [
    "## plotting"
   ]
  },
  {
   "cell_type": "code",
   "execution_count": 192,
   "metadata": {
    "scrolled": false
   },
   "outputs": [
    {
     "data": {
      "image/png": "[encoded data removed]",
      "text/plain": [
       "<Figure size 1152x748.8 with 4 Axes>"
      ]
     },
     "metadata": {},
     "output_type": "display_data"
    }
   ],
   "source": [
    "n_groups = 3\n",
    "index = np.arange(n_groups)\n",
    "bar_width = 0.15\n",
    "opacity = 0.8\n",
    "models = ('SVM', 'RF', 'XGB')\n",
    "\n",
    "for i, (description, (static, temporal, merged)) in enumerate(plots.items()):\n",
    "    plt.subplot(2, 2, i+1)\n",
    "    \n",
    "    rects1 = plt.bar(index, static, bar_width, alpha=opacity, color='r', label='static')\n",
    "    rects2 = plt.bar(index + bar_width, temporal, bar_width, alpha=opacity, color='g', label='temporal')\n",
    "    rects3 = plt.bar(index + 2*bar_width, merged, bar_width, alpha=opacity, color='b', label='merged')\n",
    "\n",
    "    plt.ylabel('Accuracy')\n",
    "    plt.xticks(index + bar_width, models)\n",
    "    y_ticks = ['']\n",
    "    y_ticks.extend([round(x, 1) for x in np.arange(0.1, 1.01, 0.1)])\n",
    "    plt.yticks(np.arange(0, 1.45, 0.1), y_ticks)\n",
    "    plt.title(description)\n",
    "    plt.legend()\n",
    "\n",
    "plt.tight_layout()\n",
    "plt.show()"
   ]
  },
  {
   "cell_type": "markdown",
   "metadata": {},
   "source": [
    "# Wrap up\n",
    "At last, the results.  \n",
    "\n",
    "From the plots, we can confirm our hypothesis: for \"sparse\" temporal networks (ones that have fewer interactions between the nodes in a fixed time window) like the **E-mail** one, the method of windowing improved our model performance up to **20%**! This is because the process of motif construction in the network spans more than the defined time-frame so the windowing technique managed to capture more context from its predecessors.  \n",
    "On the other hand, for \"dense\" temporal networks like the **StackExchange** one, the windowing technique had a modest improvement of **5-8%**. This is due to the fact that its motifs mostly occur in the specified time-window and only small amount of information can be extracted from the predecessor windows.  \n",
    "\n",
    "Frankly, this was expected. Meaningful e-mail communication usually doesn't occur in just one day (the length of our time-frames), so that is why windowing the timeframes improved our accuracy so much - we were able to capture much more context of the communication between the employees in the department, thus increasing the number of motif formations.  \n",
    "On the other hand, stack exchange discussions are rarely revisited after the day they were originally posted, so that is why we achieved such modest improvements by windowing the timeframes. "
   ]
  }
 ],
 "metadata": {
  "kernelspec": {
   "display_name": "Python 3",
   "language": "python",
   "name": "python3"
  },
  "language_info": {
   "codemirror_mode": {
    "name": "ipython",
    "version": 3
   },
   "file_extension": ".py",
   "mimetype": "text/x-python",
   "name": "python",
   "nbconvert_exporter": "python",
   "pygments_lexer": "ipython3",
   "version": "3.6.5"
  }
 },
 "nbformat": 4,
 "nbformat_minor": 2
}
