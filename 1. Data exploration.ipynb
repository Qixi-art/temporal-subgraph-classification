{
 "cells": [
  {
   "cell_type": "markdown",
   "metadata": {},
   "source": [
    "# Introduction\n",
    "\n",
    "## Data description\n",
    "\n",
    "Before we dive into parsing and plotting the data, let's first discuss what our data represents.  \n",
    "We have two main datasets:\n",
    "1. **E-mail network** (Directed temporal graph, nodes are people and edges are emails sent from employee *A* to employee *B* at timestamp *t*)\n",
    "2. **Stack Exchange network** (Directed temporal graph, nodes are users and edges are replies/comments from user *A* to user *B* at timestamp *t*)\n",
    "\n",
    "Both of them are constructed from 4 subnetworks each: \n",
    "- E-mail network: *Department 1, Department 2, Department 3, Department 4*\n",
    "- Stack Exchange network: *Ask Ubuntu, Math Overflow, Stack Overflow, Super User*\n",
    "\n",
    "## Main objective\n",
    "Our main objective is to assign **subgraphs** (ex. graph constructed from mails sent within a 3 hour period) to one of the **subnetworks** (ex. Dept. 1, Dept. 2, Dept. 3, Dept. 4). The networks as a whole will be called **datasets**.  \n",
    "\n",
    "This problem is known as **classification**."
   ]
  },
  {
   "cell_type": "code",
   "execution_count": 1,
   "metadata": {},
   "outputs": [],
   "source": [
    "import pandas as pd\n",
    "import matplotlib.pyplot as plt; plt.rcdefaults()\n",
    "import numpy as np\n",
    "import matplotlib.pyplot as plt\n",
    "from jupyterthemes import jtplot"
   ]
  },
  {
   "cell_type": "code",
   "execution_count": 2,
   "metadata": {},
   "outputs": [],
   "source": [
    "jtplot.style(theme='onedork')\n",
    "jtplot.style(context='talk', fscale=1.4, spines=False, gridlines='--')\n",
    "jtplot.style(ticks=True, grid=False, figsize=(6, 4.5))"
   ]
  },
  {
   "cell_type": "markdown",
   "metadata": {},
   "source": [
    "# Data dive"
   ]
  },
  {
   "cell_type": "code",
   "execution_count": 3,
   "metadata": {},
   "outputs": [
    {
     "data": {
      "text/html": [
       "<div>\n",
       "<style scoped>\n",
       "    .dataframe tbody tr th:only-of-type {\n",
       "        vertical-align: middle;\n",
       "    }\n",
       "\n",
       "    .dataframe tbody tr th {\n",
       "        vertical-align: top;\n",
       "    }\n",
       "\n",
       "    .dataframe thead th {\n",
       "        text-align: right;\n",
       "    }\n",
       "</style>\n",
       "<table border=\"1\" class=\"dataframe\">\n",
       "  <thead>\n",
       "    <tr style=\"text-align: right;\">\n",
       "      <th></th>\n",
       "      <th>from</th>\n",
       "      <th>to</th>\n",
       "      <th>timestamp</th>\n",
       "    </tr>\n",
       "  </thead>\n",
       "  <tbody>\n",
       "    <tr>\n",
       "      <th>0</th>\n",
       "      <td>151</td>\n",
       "      <td>280</td>\n",
       "      <td>30281</td>\n",
       "    </tr>\n",
       "    <tr>\n",
       "      <th>1</th>\n",
       "      <td>176</td>\n",
       "      <td>225</td>\n",
       "      <td>30899</td>\n",
       "    </tr>\n",
       "    <tr>\n",
       "      <th>2</th>\n",
       "      <td>69</td>\n",
       "      <td>223</td>\n",
       "      <td>32305</td>\n",
       "    </tr>\n",
       "    <tr>\n",
       "      <th>3</th>\n",
       "      <td>28</td>\n",
       "      <td>285</td>\n",
       "      <td>32748</td>\n",
       "    </tr>\n",
       "    <tr>\n",
       "      <th>4</th>\n",
       "      <td>26</td>\n",
       "      <td>225</td>\n",
       "      <td>33383</td>\n",
       "    </tr>\n",
       "  </tbody>\n",
       "</table>\n",
       "</div>"
      ],
      "text/plain": [
       "   from   to  timestamp\n",
       "0   151  280      30281\n",
       "1   176  225      30899\n",
       "2    69  223      32305\n",
       "3    28  285      32748\n",
       "4    26  225      33383"
      ]
     },
     "execution_count": 3,
     "metadata": {},
     "output_type": "execute_result"
    }
   ],
   "source": [
    "df_email_dept_1 = pd.read_csv('data/original/email/dept_1.csv', delim_whitespace=True, header=None, names=['from', 'to', 'timestamp'])\n",
    "df_email_dept_1.head()"
   ]
  },
  {
   "cell_type": "markdown",
   "metadata": {},
   "source": [
    "We see that our dataset consists of rows that represent timestamped edges.  \n",
    "Let's repeat for the rest of the datasets."
   ]
  },
  {
   "cell_type": "code",
   "execution_count": 4,
   "metadata": {},
   "outputs": [],
   "source": [
    "df_email_dept_2 = pd.read_csv('data/original/email/dept_2.csv', delim_whitespace=True, header=None, names=['from', 'to', 'timestamp'])\n",
    "df_email_dept_3 = pd.read_csv('data/original/email/dept_3.csv', delim_whitespace=True, header=None, names=['from', 'to', 'timestamp'])\n",
    "df_email_dept_4 = pd.read_csv('data/original/email/dept_4.csv', delim_whitespace=True, header=None, names=['from', 'to', 'timestamp'])"
   ]
  },
  {
   "cell_type": "code",
   "execution_count": 5,
   "metadata": {},
   "outputs": [],
   "source": [
    "df_sx_askubuntu = pd.read_csv('data/original/sx/askubuntu.csv', delim_whitespace=True, header=None, names=['from', 'to', 'timestamp'])\n",
    "df_sx_mathoverflow = pd.read_csv('data/original/sx/mathoverflow.csv', delim_whitespace=True, header=None, names=['from', 'to', 'timestamp'])\n",
    "df_sx_stackoverflow = pd.read_csv('data/original/sx/stackoverflow.csv', delim_whitespace=True, header=None, names=['from', 'to', 'timestamp'])\n",
    "df_sx_superuser = pd.read_csv('data/original/sx/superuser.csv', delim_whitespace=True, header=None, names=['from', 'to', 'timestamp'])"
   ]
  },
  {
   "cell_type": "markdown",
   "metadata": {},
   "source": [
    "### Let's focus on the distribution of the sizes of the dataset"
   ]
  },
  {
   "cell_type": "code",
   "execution_count": 6,
   "metadata": {},
   "outputs": [],
   "source": [
    "email_dataset_sizes = [len(df_email_dept_1), len(df_email_dept_2), len(df_email_dept_3), len(df_email_dept_4)]\n",
    "sx_dataset_sizes = [len(df_sx_askubuntu), len(df_sx_mathoverflow), len(df_sx_stackoverflow), len(df_sx_superuser)]"
   ]
  },
  {
   "cell_type": "code",
   "execution_count": 7,
   "metadata": {},
   "outputs": [
    {
     "name": "stdout",
     "output_type": "stream",
     "text": [
      "Email dataset sizes:  [61046, 46772, 12216, 48141]\n",
      "Stack exchange dataset sizes:  [964437, 506550, 63497050, 1443339]\n"
     ]
    }
   ],
   "source": [
    "print('Email dataset sizes: ', email_dataset_sizes)\n",
    "print('Stack exchange dataset sizes: ', sx_dataset_sizes)"
   ]
  },
  {
   "cell_type": "markdown",
   "metadata": {},
   "source": [
    "### Let's plot these to get more intuition of the imbalances"
   ]
  },
  {
   "cell_type": "code",
   "execution_count": 8,
   "metadata": {},
   "outputs": [],
   "source": [
    "email_dataset_names = ['Dept. 1', 'Dept. 2', 'Dept. 3', 'Dept. 4']\n",
    "sx_dataset_names = ['Ask Ubuntu', 'Math Overflow', 'Stack Overflow', 'Super User']\n",
    "\n",
    "email_x_pos = np.arange(len(email_dataset_names))\n",
    "sx_x_pos = np.arange(len(sx_dataset_names))"
   ]
  },
  {
   "cell_type": "code",
   "execution_count": 9,
   "metadata": {},
   "outputs": [
    {
     "data": {
      "image/png": "[encoded data removed]",
      "text/plain": [
       "<Figure size 1080x360 with 2 Axes>"
      ]
     },
     "metadata": {},
     "output_type": "display_data"
    }
   ],
   "source": [
    "fig = plt.figure(figsize=(15,5))\n",
    "\n",
    "plt.subplot(121)\n",
    "plt.bar(email_x_pos, email_dataset_sizes, align='center', alpha=0.7, color='g')\n",
    "plt.xticks(email_x_pos, email_dataset_names)\n",
    "plt.xlabel('Classes')\n",
    "plt.ylabel('# temporal edges')\n",
    "plt.title('Email Edge Distribution')\n",
    "\n",
    "plt.subplot(122)\n",
    "plt.bar(sx_x_pos, sx_dataset_sizes, align='center', alpha=0.7, color='r')\n",
    "plt.xticks(sx_x_pos, sx_dataset_names)\n",
    "plt.xlabel('Classes')\n",
    "plt.ylabel('# temporal edges')\n",
    "plt.title('Stack Exchange Edge Distribution')\n",
    "    \n",
    "plt.show()"
   ]
  },
  {
   "cell_type": "markdown",
   "metadata": {},
   "source": [
    "## Overview\n",
    "First off, let's address the elephant in the room. The **StackOverflow** dataset is way bigger than any of the other datasets.  \n",
    "\n",
    "If this was a standard machine learning problem, it would be a disaster - we shouldn't allow certain classes to have more samples than the others. All classes should be represented uniformly.  However, the term sample is highly relative. \n",
    "\n",
    "If we were to somehow, magically, classify each edge to a certain subnetwork, then this non-uniformity wouldn't be appropriate. But, that's not what we are trying to achieve.  \n",
    "\n",
    "As we stated in the main objective, we would like to classify a certain network constructed over a small period of time to one of the subnetworks. That network could have 10 edges or 1000 for all we know.  \n",
    "So, we don't treat the timestamped edges (rows in the original input files) as samples for our machine learning models, but the very same thing we are trying to classify - graphs formed over a small period of time. This means that we need to generate enough subgraphs from the timestamped edges to train a machine learning model.\n",
    "\n",
    "We will go over this in much more detail in the following notebooks, but for now, we only need to make sure that the datasets begin and end around the same time and that each of them are sorted by the timestamp column."
   ]
  },
  {
   "cell_type": "markdown",
   "metadata": {},
   "source": [
    "### Sorting the Stack Exchange datasets by the timestamp value"
   ]
  },
  {
   "cell_type": "code",
   "execution_count": 10,
   "metadata": {},
   "outputs": [],
   "source": [
    "df_sx_superuser.sort_values(by=['timestamp'], inplace=True)\n",
    "df_sx_askubuntu.sort_values(by=['timestamp'], inplace=True)\n",
    "df_sx_stackoverflow.sort_values(by=['timestamp'], inplace=True)\n",
    "df_sx_mathoverflow.sort_values(by=['timestamp'], inplace=True)"
   ]
  },
  {
   "cell_type": "markdown",
   "metadata": {},
   "source": [
    "### Trimming the Stack Exchange datasets\n",
    "From the Stack Exchange dataset, the Ask Ubuntu subnetwork starts regularly a few months later than the rest of the subnetworks.  \n",
    "This means that we have to trim the other three from the beginning so that they start at the same period of time.  They all end on the same day."
   ]
  },
  {
   "cell_type": "code",
   "execution_count": 11,
   "metadata": {},
   "outputs": [],
   "source": [
    "ts = 1280369730\n",
    "\n",
    "df_sx_superuser_trimmed = df_sx_superuser[df_sx_superuser['timestamp'] >= ts]\n",
    "df_sx_askubuntu_trimmed = df_sx_askubuntu[df_sx_askubuntu['timestamp'] >= ts]\n",
    "df_sx_mathoverflow_trimmed = df_sx_mathoverflow[df_sx_mathoverflow['timestamp'] >= ts]\n",
    "df_sx_stackoverflow_trimmed = df_sx_stackoverflow[df_sx_stackoverflow['timestamp'] >= ts]"
   ]
  },
  {
   "cell_type": "markdown",
   "metadata": {},
   "source": [
    "### Sorting the E-mail datasets by the timestamp value"
   ]
  },
  {
   "cell_type": "code",
   "execution_count": 12,
   "metadata": {},
   "outputs": [],
   "source": [
    "df_email_dept_1.sort_values(by=['timestamp'], inplace=True) \n",
    "df_email_dept_2.sort_values(by=['timestamp'], inplace=True) \n",
    "df_email_dept_3.sort_values(by=['timestamp'], inplace=True) \n",
    "df_email_dept_4.sort_values(by=['timestamp'], inplace=True) "
   ]
  },
  {
   "cell_type": "markdown",
   "metadata": {},
   "source": [
    "### Trimming the E-mail datasets\n",
    "There's no need to trim, all of the datasets are roughly in the same period of time"
   ]
  },
  {
   "cell_type": "markdown",
   "metadata": {},
   "source": [
    "### Let's save everything and wrap up"
   ]
  },
  {
   "cell_type": "code",
   "execution_count": 13,
   "metadata": {},
   "outputs": [],
   "source": [
    "df_email_dept_1.to_csv('data/formatted/email/dept_1.csv', sep=' ', index=False)\n",
    "df_email_dept_2.to_csv('data/formatted/email/dept_2.csv', sep=' ', index=False)\n",
    "df_email_dept_3.to_csv('data/formatted/email/dept_3.csv', sep=' ', index=False)\n",
    "df_email_dept_4.to_csv('data/formatted/email/dept_4.csv', sep=' ', index=False)"
   ]
  },
  {
   "cell_type": "code",
   "execution_count": 14,
   "metadata": {},
   "outputs": [],
   "source": [
    "df_sx_superuser_trimmed.to_csv('data/formatted/sx/superuser.csv', sep=' ', index=False)\n",
    "df_sx_askubuntu_trimmed.to_csv('data/formatted/sx/askubuntu.csv', sep=' ', index=False)\n",
    "df_sx_mathoverflow_trimmed.to_csv('data/formatted/sx/mathoverflow.csv', sep=' ', index=False)\n",
    "df_sx_stackoverflow_trimmed.to_csv('data/formatted/sx/stackoverflow.csv', sep=' ', index=False)"
   ]
  }
 ],
 "metadata": {
  "kernelspec": {
   "display_name": "Python 3",
   "language": "python",
   "name": "python3"
  },
  "language_info": {
   "codemirror_mode": {
    "name": "ipython",
    "version": 3
   },
   "file_extension": ".py",
   "mimetype": "text/x-python",
   "name": "python",
   "nbconvert_exporter": "python",
   "pygments_lexer": "ipython3",
   "version": "3.6.5"
  }
 },
 "nbformat": 4,
 "nbformat_minor": 2
}
